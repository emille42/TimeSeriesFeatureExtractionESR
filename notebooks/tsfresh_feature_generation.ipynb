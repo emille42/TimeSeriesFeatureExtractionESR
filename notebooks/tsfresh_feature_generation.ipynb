{
 "cells": [
  {
   "cell_type": "code",
   "execution_count": 183,
   "metadata": {},
   "outputs": [],
   "source": [
    "import pandas as pd\n",
    "import numpy as np\n",
    "from tsfresh import extract_features\n",
    "from sklearn.model_selection import train_test_split\n",
    "from sklearn.ensemble import RandomForestClassifier\n",
    "from sklearn.neighbors import KNeighborsClassifier\n",
    "from sklearn.svm import SVC\n",
    "from tsfresh.feature_selection.significance_tests import target_binary_feature_real_test\n",
    "import sys\n",
    "sys.path.append(\"../\")\n",
    "from src.dwt_utils import *\n",
    "from src.baseline_utils import train_model"
   ]
  },
  {
   "attachments": {},
   "cell_type": "markdown",
   "metadata": {},
   "source": [
    "# **Dataset import**"
   ]
  },
  {
   "cell_type": "code",
   "execution_count": 93,
   "metadata": {},
   "outputs": [
    {
     "data": {
      "text/plain": [
       "y\n",
       "0    9200\n",
       "1    2300\n",
       "Name: count, dtype: int64"
      ]
     },
     "execution_count": 93,
     "metadata": {},
     "output_type": "execute_result"
    }
   ],
   "source": [
    "df = pd.read_csv(\"../datasets/esr_dataset.csv\")\n",
    "df = df.drop(\"Unnamed\", axis=1)\n",
    "# Трансформируем целевую переменную из многоклассовой в бинарную\n",
    "df['y'] = df['y'].apply(lambda y: 1 if y==1 else 0)\n",
    "df['y'].value_counts()"
   ]
  },
  {
   "cell_type": "code",
   "execution_count": 103,
   "metadata": {},
   "outputs": [],
   "source": [
    "# Подготавливаем датасет для tsfresh\n",
    "new_df = pd.DataFrame(columns=['id', 'time', 'value'])\n",
    "time_names = df.drop(['y'], axis=1).columns.to_list()\n",
    "n_times = len(time_names)\n",
    "\n",
    "for row in df.iterrows():\n",
    "    values = row[1].drop(['y']).to_numpy().flatten()\n",
    "\n",
    "    id = np.full(n_times, row[0])\n",
    "    row_df = pd.DataFrame({\"id\" : id, \"time\" : time_names, \"value\" : values})\n",
    "    new_df = pd.concat([new_df, row_df])\n",
    "    \n",
    "new_df.to_csv(\"../datasets/tsfresh_dataset.csv\", index=False)"
   ]
  },
  {
   "cell_type": "code",
   "execution_count": 123,
   "metadata": {},
   "outputs": [
    {
     "data": {
      "text/html": [
       "<div>\n",
       "<style scoped>\n",
       "    .dataframe tbody tr th:only-of-type {\n",
       "        vertical-align: middle;\n",
       "    }\n",
       "\n",
       "    .dataframe tbody tr th {\n",
       "        vertical-align: top;\n",
       "    }\n",
       "\n",
       "    .dataframe thead th {\n",
       "        text-align: right;\n",
       "    }\n",
       "</style>\n",
       "<table border=\"1\" class=\"dataframe\">\n",
       "  <thead>\n",
       "    <tr style=\"text-align: right;\">\n",
       "      <th></th>\n",
       "      <th>id</th>\n",
       "      <th>time</th>\n",
       "      <th>value</th>\n",
       "    </tr>\n",
       "  </thead>\n",
       "  <tbody>\n",
       "    <tr>\n",
       "      <th>0</th>\n",
       "      <td>0</td>\n",
       "      <td>X1</td>\n",
       "      <td>135</td>\n",
       "    </tr>\n",
       "    <tr>\n",
       "      <th>1</th>\n",
       "      <td>0</td>\n",
       "      <td>X2</td>\n",
       "      <td>190</td>\n",
       "    </tr>\n",
       "    <tr>\n",
       "      <th>2</th>\n",
       "      <td>0</td>\n",
       "      <td>X3</td>\n",
       "      <td>229</td>\n",
       "    </tr>\n",
       "    <tr>\n",
       "      <th>3</th>\n",
       "      <td>0</td>\n",
       "      <td>X4</td>\n",
       "      <td>223</td>\n",
       "    </tr>\n",
       "    <tr>\n",
       "      <th>4</th>\n",
       "      <td>0</td>\n",
       "      <td>X5</td>\n",
       "      <td>192</td>\n",
       "    </tr>\n",
       "  </tbody>\n",
       "</table>\n",
       "</div>"
      ],
      "text/plain": [
       "   id time  value\n",
       "0   0   X1    135\n",
       "1   0   X2    190\n",
       "2   0   X3    229\n",
       "3   0   X4    223\n",
       "4   0   X5    192"
      ]
     },
     "execution_count": 123,
     "metadata": {},
     "output_type": "execute_result"
    }
   ],
   "source": [
    "data = pd.read_csv(\"../datasets/tsfresh_dataset.csv\")\n",
    "data.head(5)"
   ]
  },
  {
   "attachments": {},
   "cell_type": "markdown",
   "metadata": {},
   "source": [
    "# **TSFresh Automatic Feature Generation & ML**"
   ]
  },
  {
   "cell_type": "code",
   "execution_count": 129,
   "metadata": {},
   "outputs": [
    {
     "data": {
      "text/plain": [
       "id       object\n",
       "time     object\n",
       "value     int64\n",
       "dtype: object"
      ]
     },
     "execution_count": 129,
     "metadata": {},
     "output_type": "execute_result"
    }
   ],
   "source": [
    "data.id = data.id.astype('object')\n",
    "data.dtypes"
   ]
  },
  {
   "attachments": {},
   "cell_type": "markdown",
   "metadata": {},
   "source": [
    "Извлечем все возможные признаки из датасета"
   ]
  },
  {
   "cell_type": "code",
   "execution_count": 130,
   "metadata": {},
   "outputs": [
    {
     "name": "stderr",
     "output_type": "stream",
     "text": [
      "Feature Extraction: 100%|██████████| 10/10 [27:37<00:00, 165.78s/it]\n"
     ]
    }
   ],
   "source": [
    "extracted_features = extract_features(data, column_id=\"id\", column_sort=\"time\", column_value=\"value\")"
   ]
  },
  {
   "cell_type": "code",
   "execution_count": 147,
   "metadata": {},
   "outputs": [
    {
     "data": {
      "text/html": [
       "<div>\n",
       "<style scoped>\n",
       "    .dataframe tbody tr th:only-of-type {\n",
       "        vertical-align: middle;\n",
       "    }\n",
       "\n",
       "    .dataframe tbody tr th {\n",
       "        vertical-align: top;\n",
       "    }\n",
       "\n",
       "    .dataframe thead th {\n",
       "        text-align: right;\n",
       "    }\n",
       "</style>\n",
       "<table border=\"1\" class=\"dataframe\">\n",
       "  <thead>\n",
       "    <tr style=\"text-align: right;\">\n",
       "      <th></th>\n",
       "      <th>value__variance_larger_than_standard_deviation</th>\n",
       "      <th>value__has_duplicate_max</th>\n",
       "      <th>value__has_duplicate_min</th>\n",
       "      <th>value__has_duplicate</th>\n",
       "      <th>value__sum_values</th>\n",
       "      <th>value__abs_energy</th>\n",
       "      <th>value__mean_abs_change</th>\n",
       "      <th>value__mean_change</th>\n",
       "      <th>value__mean_second_derivative_central</th>\n",
       "      <th>value__median</th>\n",
       "      <th>...</th>\n",
       "      <th>value__fourier_entropy__bins_10</th>\n",
       "      <th>value__fourier_entropy__bins_100</th>\n",
       "      <th>value__permutation_entropy__dimension_3__tau_1</th>\n",
       "      <th>value__permutation_entropy__dimension_4__tau_1</th>\n",
       "      <th>value__permutation_entropy__dimension_5__tau_1</th>\n",
       "      <th>value__permutation_entropy__dimension_6__tau_1</th>\n",
       "      <th>value__permutation_entropy__dimension_7__tau_1</th>\n",
       "      <th>value__query_similarity_count__query_None__threshold_0.0</th>\n",
       "      <th>value__mean_n_absolute_max__number_of_maxima_7</th>\n",
       "      <th>y</th>\n",
       "    </tr>\n",
       "  </thead>\n",
       "  <tbody>\n",
       "    <tr>\n",
       "      <th>0</th>\n",
       "      <td>1.0</td>\n",
       "      <td>0.0</td>\n",
       "      <td>0.0</td>\n",
       "      <td>1.0</td>\n",
       "      <td>-3010.0</td>\n",
       "      <td>1681484.0</td>\n",
       "      <td>52.016949</td>\n",
       "      <td>-1.949153</td>\n",
       "      <td>0.247159</td>\n",
       "      <td>-11.5</td>\n",
       "      <td>...</td>\n",
       "      <td>1.195352</td>\n",
       "      <td>2.951483</td>\n",
       "      <td>1.568466</td>\n",
       "      <td>2.552025</td>\n",
       "      <td>3.483084</td>\n",
       "      <td>4.219962</td>\n",
       "      <td>4.690669</td>\n",
       "      <td>NaN</td>\n",
       "      <td>245.714286</td>\n",
       "      <td>0</td>\n",
       "    </tr>\n",
       "    <tr>\n",
       "      <th>1</th>\n",
       "      <td>1.0</td>\n",
       "      <td>0.0</td>\n",
       "      <td>0.0</td>\n",
       "      <td>1.0</td>\n",
       "      <td>5004.0</td>\n",
       "      <td>39768644.0</td>\n",
       "      <td>168.310734</td>\n",
       "      <td>-0.005650</td>\n",
       "      <td>0.474432</td>\n",
       "      <td>220.5</td>\n",
       "      <td>...</td>\n",
       "      <td>0.538372</td>\n",
       "      <td>2.288039</td>\n",
       "      <td>1.556706</td>\n",
       "      <td>2.538147</td>\n",
       "      <td>3.435382</td>\n",
       "      <td>4.161452</td>\n",
       "      <td>4.601271</td>\n",
       "      <td>NaN</td>\n",
       "      <td>1260.571429</td>\n",
       "      <td>1</td>\n",
       "    </tr>\n",
       "    <tr>\n",
       "      <th>2</th>\n",
       "      <td>1.0</td>\n",
       "      <td>0.0</td>\n",
       "      <td>0.0</td>\n",
       "      <td>1.0</td>\n",
       "      <td>-7840.0</td>\n",
       "      <td>692846.0</td>\n",
       "      <td>20.192090</td>\n",
       "      <td>-0.180791</td>\n",
       "      <td>0.156250</td>\n",
       "      <td>-44.5</td>\n",
       "      <td>...</td>\n",
       "      <td>0.692489</td>\n",
       "      <td>2.313938</td>\n",
       "      <td>1.647364</td>\n",
       "      <td>2.631261</td>\n",
       "      <td>3.541738</td>\n",
       "      <td>4.236422</td>\n",
       "      <td>4.694010</td>\n",
       "      <td>NaN</td>\n",
       "      <td>113.571429</td>\n",
       "      <td>0</td>\n",
       "    </tr>\n",
       "    <tr>\n",
       "      <th>3</th>\n",
       "      <td>1.0</td>\n",
       "      <td>0.0</td>\n",
       "      <td>0.0</td>\n",
       "      <td>1.0</td>\n",
       "      <td>-12266.0</td>\n",
       "      <td>890386.0</td>\n",
       "      <td>9.254237</td>\n",
       "      <td>0.271186</td>\n",
       "      <td>-0.059659</td>\n",
       "      <td>-69.0</td>\n",
       "      <td>...</td>\n",
       "      <td>1.000170</td>\n",
       "      <td>2.852154</td>\n",
       "      <td>1.641484</td>\n",
       "      <td>2.764789</td>\n",
       "      <td>3.798963</td>\n",
       "      <td>4.537381</td>\n",
       "      <td>4.949949</td>\n",
       "      <td>NaN</td>\n",
       "      <td>99.857143</td>\n",
       "      <td>0</td>\n",
       "    </tr>\n",
       "    <tr>\n",
       "      <th>4</th>\n",
       "      <td>1.0</td>\n",
       "      <td>0.0</td>\n",
       "      <td>1.0</td>\n",
       "      <td>1.0</td>\n",
       "      <td>-1184.0</td>\n",
       "      <td>274368.0</td>\n",
       "      <td>21.355932</td>\n",
       "      <td>0.203390</td>\n",
       "      <td>0.193182</td>\n",
       "      <td>-1.0</td>\n",
       "      <td>...</td>\n",
       "      <td>0.914344</td>\n",
       "      <td>2.302692</td>\n",
       "      <td>1.619943</td>\n",
       "      <td>2.718243</td>\n",
       "      <td>3.723965</td>\n",
       "      <td>4.426841</td>\n",
       "      <td>4.851762</td>\n",
       "      <td>NaN</td>\n",
       "      <td>97.285714</td>\n",
       "      <td>0</td>\n",
       "    </tr>\n",
       "  </tbody>\n",
       "</table>\n",
       "<p>5 rows × 784 columns</p>\n",
       "</div>"
      ],
      "text/plain": [
       "   value__variance_larger_than_standard_deviation  value__has_duplicate_max   \n",
       "0                                             1.0                       0.0  \\\n",
       "1                                             1.0                       0.0   \n",
       "2                                             1.0                       0.0   \n",
       "3                                             1.0                       0.0   \n",
       "4                                             1.0                       0.0   \n",
       "\n",
       "   value__has_duplicate_min  value__has_duplicate  value__sum_values   \n",
       "0                       0.0                   1.0            -3010.0  \\\n",
       "1                       0.0                   1.0             5004.0   \n",
       "2                       0.0                   1.0            -7840.0   \n",
       "3                       0.0                   1.0           -12266.0   \n",
       "4                       1.0                   1.0            -1184.0   \n",
       "\n",
       "   value__abs_energy  value__mean_abs_change  value__mean_change   \n",
       "0          1681484.0               52.016949           -1.949153  \\\n",
       "1         39768644.0              168.310734           -0.005650   \n",
       "2           692846.0               20.192090           -0.180791   \n",
       "3           890386.0                9.254237            0.271186   \n",
       "4           274368.0               21.355932            0.203390   \n",
       "\n",
       "   value__mean_second_derivative_central  value__median  ...   \n",
       "0                               0.247159          -11.5  ...  \\\n",
       "1                               0.474432          220.5  ...   \n",
       "2                               0.156250          -44.5  ...   \n",
       "3                              -0.059659          -69.0  ...   \n",
       "4                               0.193182           -1.0  ...   \n",
       "\n",
       "   value__fourier_entropy__bins_10  value__fourier_entropy__bins_100   \n",
       "0                         1.195352                          2.951483  \\\n",
       "1                         0.538372                          2.288039   \n",
       "2                         0.692489                          2.313938   \n",
       "3                         1.000170                          2.852154   \n",
       "4                         0.914344                          2.302692   \n",
       "\n",
       "   value__permutation_entropy__dimension_3__tau_1   \n",
       "0                                        1.568466  \\\n",
       "1                                        1.556706   \n",
       "2                                        1.647364   \n",
       "3                                        1.641484   \n",
       "4                                        1.619943   \n",
       "\n",
       "   value__permutation_entropy__dimension_4__tau_1   \n",
       "0                                        2.552025  \\\n",
       "1                                        2.538147   \n",
       "2                                        2.631261   \n",
       "3                                        2.764789   \n",
       "4                                        2.718243   \n",
       "\n",
       "   value__permutation_entropy__dimension_5__tau_1   \n",
       "0                                        3.483084  \\\n",
       "1                                        3.435382   \n",
       "2                                        3.541738   \n",
       "3                                        3.798963   \n",
       "4                                        3.723965   \n",
       "\n",
       "   value__permutation_entropy__dimension_6__tau_1   \n",
       "0                                        4.219962  \\\n",
       "1                                        4.161452   \n",
       "2                                        4.236422   \n",
       "3                                        4.537381   \n",
       "4                                        4.426841   \n",
       "\n",
       "   value__permutation_entropy__dimension_7__tau_1   \n",
       "0                                        4.690669  \\\n",
       "1                                        4.601271   \n",
       "2                                        4.694010   \n",
       "3                                        4.949949   \n",
       "4                                        4.851762   \n",
       "\n",
       "   value__query_similarity_count__query_None__threshold_0.0   \n",
       "0                                                NaN         \\\n",
       "1                                                NaN          \n",
       "2                                                NaN          \n",
       "3                                                NaN          \n",
       "4                                                NaN          \n",
       "\n",
       "   value__mean_n_absolute_max__number_of_maxima_7  y  \n",
       "0                                      245.714286  0  \n",
       "1                                     1260.571429  1  \n",
       "2                                      113.571429  0  \n",
       "3                                       99.857143  0  \n",
       "4                                       97.285714  0  \n",
       "\n",
       "[5 rows x 784 columns]"
      ]
     },
     "execution_count": 147,
     "metadata": {},
     "output_type": "execute_result"
    }
   ],
   "source": [
    "extracted_features['y'] = df['y'].to_numpy()\n",
    "extracted_features.head(5)"
   ]
  },
  {
   "attachments": {},
   "cell_type": "markdown",
   "metadata": {},
   "source": [
    "Определим значимость сгенерированных признаков используя U-критерий Манна—Уитни, встроенный в TSFRESH"
   ]
  },
  {
   "cell_type": "code",
   "execution_count": 162,
   "metadata": {},
   "outputs": [],
   "source": [
    "x = extracted_features.drop('y', axis=1)\n",
    "x = x.dropna(axis=1)\n",
    "y = extracted_features['y']\n",
    "p_values = np.array([])\n",
    "for col_name in x.columns:\n",
    "    p_val = target_binary_feature_real_test(x[col_name], y, 'mann')\n",
    "    p_values = np.append(p_values, p_val)"
   ]
  },
  {
   "attachments": {},
   "cell_type": "markdown",
   "metadata": {},
   "source": [
    "Разделим выборку на тренировочную и тестовую, предварительно отобрав наиболее значимые колонки"
   ]
  },
  {
   "cell_type": "code",
   "execution_count": 215,
   "metadata": {},
   "outputs": [],
   "source": [
    "best_feature_indexes = np.where(p_values < 0.05)[0]\n",
    "X = x[x.columns[best_feature_indexes]]\n",
    "X_train, X_test, Y_train, Y_test = train_test_split(X, y, test_size=0.2, random_state=42)"
   ]
  },
  {
   "attachments": {},
   "cell_type": "markdown",
   "metadata": {},
   "source": [
    "Тренируем модели"
   ]
  },
  {
   "cell_type": "code",
   "execution_count": 199,
   "metadata": {},
   "outputs": [
    {
     "name": "stdout",
     "output_type": "stream",
     "text": [
      "              precision    recall  f1-score   support\n",
      "\n",
      "           0       0.99      0.99      0.99      1835\n",
      "           1       0.98      0.96      0.97       465\n",
      "\n",
      "    accuracy                           0.99      2300\n",
      "   macro avg       0.98      0.98      0.98      2300\n",
      "weighted avg       0.99      0.99      0.99      2300\n",
      "\n"
     ]
    }
   ],
   "source": [
    "train_model(RandomForestClassifier(), X_train, Y_train, X_test, Y_test)"
   ]
  },
  {
   "cell_type": "code",
   "execution_count": 200,
   "metadata": {},
   "outputs": [
    {
     "name": "stdout",
     "output_type": "stream",
     "text": [
      "              precision    recall  f1-score   support\n",
      "\n",
      "           0       0.97      0.99      0.98      1835\n",
      "           1       0.94      0.86      0.90       465\n",
      "\n",
      "    accuracy                           0.96      2300\n",
      "   macro avg       0.96      0.93      0.94      2300\n",
      "weighted avg       0.96      0.96      0.96      2300\n",
      "\n"
     ]
    }
   ],
   "source": [
    "train_model(SVC(), X_train, Y_train, X_test, Y_test )"
   ]
  },
  {
   "cell_type": "code",
   "execution_count": 201,
   "metadata": {},
   "outputs": [
    {
     "name": "stdout",
     "output_type": "stream",
     "text": [
      "              precision    recall  f1-score   support\n",
      "\n",
      "           0       0.98      0.99      0.98      1835\n",
      "           1       0.94      0.92      0.93       465\n",
      "\n",
      "    accuracy                           0.97      2300\n",
      "   macro avg       0.96      0.95      0.96      2300\n",
      "weighted avg       0.97      0.97      0.97      2300\n",
      "\n"
     ]
    }
   ],
   "source": [
    "train_model(KNeighborsClassifier(), X_train, Y_train, X_test, Y_test )"
   ]
  },
  {
   "attachments": {},
   "cell_type": "markdown",
   "metadata": {},
   "source": [
    "Результат получился немного лучше бейзлайна"
   ]
  }
 ],
 "metadata": {
  "kernelspec": {
   "display_name": ".venv",
   "language": "python",
   "name": "python3"
  },
  "language_info": {
   "codemirror_mode": {
    "name": "ipython",
    "version": 3
   },
   "file_extension": ".py",
   "mimetype": "text/x-python",
   "name": "python",
   "nbconvert_exporter": "python",
   "pygments_lexer": "ipython3",
   "version": "3.9.0"
  },
  "orig_nbformat": 4
 },
 "nbformat": 4,
 "nbformat_minor": 2
}
